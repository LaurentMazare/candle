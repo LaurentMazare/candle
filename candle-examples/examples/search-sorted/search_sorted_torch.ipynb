{
 "cells": [
  {
   "cell_type": "code",
   "execution_count": 13,
   "metadata": {},
   "outputs": [],
   "source": [
    "import torch\n",
    "from IPython.core.interactiveshell import InteractiveShell\n",
    "InteractiveShell.ast_node_interactivity = \"all\""
   ]
  },
  {
   "cell_type": "code",
   "execution_count": 23,
   "metadata": {},
   "outputs": [],
   "source": [
    "def test_search(ss: list, ss_shape: tuple | list, vals: list, vals_shape: tuple | list, *, right: bool, dtype: torch.dtype, device: torch.device):\n",
    "    ss = torch.tensor(ss, dtype=dtype, device=device).reshape(ss_shape)\n",
    "    vals = torch.tensor(vals, dtype=dtype, device=device).reshape(vals_shape)\n",
    "    print(torch.searchsorted(ss, vals, right=right))"
   ]
  },
  {
   "cell_type": "code",
   "execution_count": 25,
   "metadata": {},
   "outputs": [
    {
     "name": "stdout",
     "output_type": "stream",
     "text": [
      "tensor([[1, 3, 4],\n",
      "        [1, 2, 4]])\n",
      "tensor([[2, 3, 5],\n",
      "        [1, 3, 4]])\n"
     ]
    }
   ],
   "source": [
    "ss = [1, 3, 5, 7, 9, 2, 4, 6, 8, 10]\n",
    "ss_shape = (2, 5)\n",
    "vals = [3, 6, 9, 3, 6, 9]\n",
    "vals_shape = (2, 3)\n",
    "\n",
    "test_search(ss, ss_shape, vals, vals_shape, right=False, dtype=torch.int32, device=torch.device('cpu'))\n",
    "test_search(ss, ss_shape, vals, vals_shape, right=True, dtype=torch.int32, device=torch.device('cpu'))\n"
   ]
  },
  {
   "cell_type": "code",
   "execution_count": 30,
   "metadata": {},
   "outputs": [
    {
     "name": "stdout",
     "output_type": "stream",
     "text": [
      "tensor([[1, 3, 4],\n",
      "        [1, 3, 4]])\n",
      "tensor([[2, 3, 5],\n",
      "        [2, 3, 5]])\n"
     ]
    }
   ],
   "source": [
    "ss = [1, 3, 5, 7, 9]\n",
    "ss_shape = (5,)\n",
    "vals = [3, 6, 9, 3, 6, 9]\n",
    "vals_shape = (2, 3)\n",
    "\n",
    "test_search(ss, ss_shape, vals, vals_shape, right=False, dtype=torch.int32, device=torch.device('cpu'))\n",
    "test_search(ss, ss_shape, vals, vals_shape, right=True, dtype=torch.int32, device=torch.device('cpu'))"
   ]
  },
  {
   "cell_type": "code",
   "execution_count": 31,
   "metadata": {},
   "outputs": [
    {
     "name": "stdout",
     "output_type": "stream",
     "text": [
      "tensor([[1, 3, 4],\n",
      "        [0, 0, 1]])\n",
      "tensor([[2, 3, 5],\n",
      "        [0, 1, 1]])\n"
     ]
    }
   ],
   "source": [
    "ss = [1, 3, 5, 7, 9, 2, 4, 6, 8, 10]\n",
    "ss_shape = (2, 5)\n",
    "vals = [3, 6, 9, 1, 2, 3]\n",
    "vals_shape = (2, 3)\n",
    "\n",
    "test_search(ss, ss_shape, vals, vals_shape, right=False, dtype=torch.int32, device=torch.device('cpu'))\n",
    "test_search(ss, ss_shape, vals, vals_shape, right=True, dtype=torch.int32, device=torch.device('cpu'))\n"
   ]
  }
 ],
 "metadata": {
  "kernelspec": {
   "display_name": "cutlass",
   "language": "python",
   "name": "python3"
  },
  "language_info": {
   "codemirror_mode": {
    "name": "ipython",
    "version": 3
   },
   "file_extension": ".py",
   "mimetype": "text/x-python",
   "name": "python",
   "nbconvert_exporter": "python",
   "pygments_lexer": "ipython3",
   "version": "3.10.13"
  },
  "orig_nbformat": 4
 },
 "nbformat": 4,
 "nbformat_minor": 2
}
